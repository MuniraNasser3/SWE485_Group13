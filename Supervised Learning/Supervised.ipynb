{
 "cells": [
  {
   "cell_type": "markdown",
   "id": "3d0da55a-6aa9-4989-9f2b-73d0d3ea08d7",
   "metadata": {},
   "source": [
    "# supervised learning:\n"
   ]
  },
  {
   "cell_type": "code",
   "execution_count": 17,
   "id": "503b2eae",
   "metadata": {},
   "outputs": [
    {
     "name": "stdout",
     "output_type": "stream",
     "text": [
      "Decision Tree Accuracy: 1.00\n",
      "SVM Accuracy: 1.00\n",
      "\n",
      "Decision Tree Classification Report:\n",
      "               precision    recall  f1-score   support\n",
      "\n",
      "           0       1.00      1.00      1.00      1213\n",
      "           1       1.00      1.00      1.00      1196\n",
      "\n",
      "    accuracy                           1.00      2409\n",
      "   macro avg       1.00      1.00      1.00      2409\n",
      "weighted avg       1.00      1.00      1.00      2409\n",
      "\n",
      "\n",
      "SVM Classification Report:\n",
      "               precision    recall  f1-score   support\n",
      "\n",
      "           0       1.00      1.00      1.00      1213\n",
      "           1       1.00      1.00      1.00      1196\n",
      "\n",
      "    accuracy                           1.00      2409\n",
      "   macro avg       1.00      1.00      1.00      2409\n",
      "weighted avg       1.00      1.00      1.00      2409\n",
      "\n",
      "✅ Best model saved for future predictions.\n",
      "Predicted Fitness Type: 1\n"
     ]
    }
   ],
   "source": [
    "import pandas as pd\n",
    "import numpy as np\n",
    "from sklearn.model_selection import train_test_split\n",
    "from sklearn.tree import DecisionTreeClassifier\n",
    "from sklearn.svm import SVC\n",
    "from sklearn.metrics import accuracy_score, classification_report\n",
    "import joblib\n",
    "\n",
    "# 1 Load Preprocessed Data\n",
    "file_path = \"gym_recommendation_processed_deduped.csv\"\n",
    "df = pd.read_csv(file_path)\n",
    "\n",
    "\n",
    "# 2 Separate Features & Target Variable\n",
    "target_column = \"Fitness Type\"\n",
    "X = df.drop(columns=[target_column])  # Features (user attributes)\n",
    "y = df[target_column]  # Target variable (Fitness Type)\n",
    "\n",
    "# 3 Split Data into Training (80%) and Testing (20%)\n",
    "X_train, X_test, y_train, y_test = train_test_split(X, y, test_size=0.2, random_state=42)\n",
    "\n",
    "# 4 Train Decision Tree Classifier (ID3 Algorithm)\n",
    "dt_model = DecisionTreeClassifier(criterion=\"entropy\", random_state=42)\n",
    "dt_model.fit(X_train, y_train)\n",
    "\n",
    "# 5 Train Support Vector Machine (SVM - Linear Kernel)\n",
    "svm_model = SVC(kernel=\"linear\", random_state=42)\n",
    "svm_model.fit(X_train, y_train)\n",
    "\n",
    "# 6 Evaluate Both Models\n",
    "## Predictions\n",
    "y_pred_dt = dt_model.predict(X_test)\n",
    "y_pred_svm = svm_model.predict(X_test)\n",
    "\n",
    "## Accuracy Scores\n",
    "accuracy_dt = accuracy_score(y_test, y_pred_dt)\n",
    "accuracy_svm = accuracy_score(y_test, y_pred_svm)\n",
    "\n",
    "print(f\"Decision Tree Accuracy: {accuracy_dt:.2f}\")\n",
    "print(f\"SVM Accuracy: {accuracy_svm:.2f}\")\n",
    "\n",
    "## Detailed Performance Report\n",
    "print(\"\\nDecision Tree Classification Report:\\n\", classification_report(y_test, y_pred_dt))\n",
    "print(\"\\nSVM Classification Report:\\n\", classification_report(y_test, y_pred_svm))\n",
    "\n",
    "# 7 Save the Best Model for Future Predictions\n",
    "best_model = dt_model if accuracy_dt > accuracy_svm else svm_model\n",
    "joblib.dump(best_model, \"best_fitness_model.pkl\")\n",
    "print(\"✅ Best model saved for future predictions.\")\n",
    "\n",
    "# 8 Function to Predict Fitness Type from User Input\n",
    "def predict_fitness(user_input):\n",
    "    model = joblib.load(\"best_fitness_model.pkl\")  # Load saved model\n",
    "    input_df = pd.DataFrame([user_input], columns=X.columns)  # Convert input to DataFrame\n",
    "    prediction = model.predict(input_df)[0]  # Get prediction\n",
    "    return prediction\n",
    "\n",
    "# Example Usage (Test with a Sample Input)\n",
    "sample_user = {\n",
    "    \"Sex\": 1, \"Level\": 2, \"Fitness Goal\": 0, \"Hypertension\": 0, \"Diabetes\": 0, \n",
    "    \"Age\": 0.5, \"Height\": 0.7, \"Weight\": 0.6, \"BMI\": 0.4\n",
    "}\n",
    "print(\"Predicted Fitness Type:\", predict_fitness(sample_user))"
   ]
  }
 ],
 "metadata": {
  "kernelspec": {
   "display_name": ".venv",
   "language": "python",
   "name": "python3"
  },
  "language_info": {
   "codemirror_mode": {
    "name": "ipython",
    "version": 3
   },
   "file_extension": ".py",
   "mimetype": "text/x-python",
   "name": "python",
   "nbconvert_exporter": "python",
   "pygments_lexer": "ipython3",
   "version": "3.13.2"
  }
 },
 "nbformat": 4,
 "nbformat_minor": 5
}
