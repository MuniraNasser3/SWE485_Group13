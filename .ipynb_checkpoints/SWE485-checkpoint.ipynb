{
 "cells": [
  {
   "cell_type": "markdown",
   "id": "194263c9-325a-48a4-8066-f9c90b7ba07f",
   "metadata": {},
   "source": [
    "\n",
    "\n",
    "\n",
    "\n",
    "\n",
    "\n",
    "3-General Information \n",
    "\n",
    "Structure of the Dataset\n",
    "-Number of Observations:\n",
    "The dataset contains 3,695 records, meaning it includes data for 3,695 different individuals.\n",
    "\n",
    "-Number of Variables:\n",
    "There are 8 relevant variables that will be used for prediction, along with one output label. These include numerical and categorical attributes describing each individual's fitness profile.\n",
    "\n",
    "\n",
    "Variables and Their Types\n",
    "\n",
    "-Sex: Represents the gender of the individual.\n",
    "Possible values: Male, Female\n",
    "\n",
    "-Age(Integer):Represents the age of the individual.\n",
    "\n",
    "-Height(Float):Represents the height of the individual in meters.\n",
    "\n",
    "-Weight(Float):Represents the weight of the individual in kilograms.\n",
    "\n",
    "-BMI(Float):Calculated as Weight (kg) / Height² (m²).\n",
    "It indicates whether an individual is underweight, normal weight, overweight, or obese.\n",
    "\n",
    "-Level(Categorical):Represents the BMI classification of the individual.\n",
    "Possible values: Underweight ,Normal ,Overweight,\n",
    "Obese.\n",
    "\n",
    "-Fitness Goal(Categorical):Describes the individual's primary fitness objective.\n",
    "Possible values: Weight Gain ,Weight Loss\n",
    "\n",
    "\n",
    "-Fitness Type(Label):This is the output variable that the model aims to predict.\n",
    "Represents the recommended fitness category based on an individual's characteristics and goals.\n",
    "\n",
    "Possible values: Muscular Fitness ,Cardio Fitness.\n"
   ]
  }
 ],
 "metadata": {
  "kernelspec": {
   "display_name": "Python 3 (ipykernel)",
   "language": "python",
   "name": "python3"
  },
  "language_info": {
   "codemirror_mode": {
    "name": "ipython",
    "version": 3
   },
   "file_extension": ".py",
   "mimetype": "text/x-python",
   "name": "python",
   "nbconvert_exporter": "python",
   "pygments_lexer": "ipython3",
   "version": "3.13.2"
  }
 },
 "nbformat": 4,
 "nbformat_minor": 5
}
