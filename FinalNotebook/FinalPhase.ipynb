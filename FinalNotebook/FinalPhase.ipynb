{
 "cells": [
  {
   "cell_type": "markdown",
   "id": "ab13cddc",
   "metadata": {},
   "source": [
    "#Final Jupytor Notebook:"
   ]
  },
  {
   "cell_type": "markdown",
   "id": "4f9cd315",
   "metadata": {},
   "source": [
    "#Phase1:"
   ]
  },
  {
   "cell_type": "markdown",
   "id": "1cd5af3c",
   "metadata": {},
   "source": [
    "1-The goal of the dataset\n",
    "\n",
    "The goal of the dataset is to develop a personalized fitness recommendation system to classify individuals into suitable fitness types for tailored workout plans and improved training efficiency.\n",
    "\n",
    "2-The source of the dataset\n",
    "\n",
    "https://data.mendeley.com/datasets/zw8mtbm5b9/1\n",
    "\n",
    "3-General Information\n",
    "\n",
    "Structure of the Dataset -Number of Observations: The dataset contains 3,695 records, meaning it includes data for 3,695 different individuals.\n",
    "\n",
    "-Number of Variables: There are 8 relevant variables , but we used weight , height , and age for predicting the fitness type.\n",
    "Variables and Their Types\n",
    "\n",
    "-Sex: Represents the gender of the individual. Possible values: Male, Female\n",
    "\n",
    "-Age(Integer):Represents the age of the individual.\n",
    "\n",
    "-Height(Float):Represents the height of the individual in meters.\n",
    "\n",
    "-Weight(Float):Represents the weight of the individual in kilograms.\n",
    "\n",
    "-BMI(Float):Calculated as Weight (kg) / Height² (m²). It indicates whether an individual is underweight, normal weight, overweight, or obese.\n",
    "\n",
    "-Level(Categorical):Represents the BMI classification of the individual. Possible values: Underweight ,Normal ,Overweight, Obese.\n",
    "\n",
    "-Fitness Goal(Categorical):Describes the individual's primary fitness objective. Possible values: Weight Gain ,Weight Loss\n",
    "\n",
    "-Fitness Type(Label):This is the output variable that the model aims to predict. Represents the recommended fitness category based on an individual's characteristics and goals.\n",
    "\n",
    "Possible values: Muscular Fitness ,Cardio Fitness."
   ]
  }
 ],
 "metadata": {
  "language_info": {
   "name": "python"
  }
 },
 "nbformat": 4,
 "nbformat_minor": 5
}
