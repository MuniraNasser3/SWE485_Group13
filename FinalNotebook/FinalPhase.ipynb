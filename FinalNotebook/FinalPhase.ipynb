{
 "cells": [
  {
   "cell_type": "markdown",
   "id": "ab13cddc",
   "metadata": {},
   "source": [
    "#Final Jupytor Notebook:"
   ]
  }
 ],
 "metadata": {
  "language_info": {
   "name": "python"
  }
 },
 "nbformat": 4,
 "nbformat_minor": 5
}
